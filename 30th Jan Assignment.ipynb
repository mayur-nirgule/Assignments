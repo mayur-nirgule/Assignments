{
 "cells": [
  {
   "cell_type": "code",
   "execution_count": 4,
   "id": "d535577a-c114-48a8-a269-5c6ec9f3ff64",
   "metadata": {},
   "outputs": [
    {
     "name": "stdin",
     "output_type": "stream",
     "text": [
      "Enter the persentage: 8\n"
     ]
    },
    {
     "name": "stdout",
     "output_type": "stream",
     "text": [
      "Grade D\n"
     ]
    }
   ],
   "source": [
    "#1. Write a program to accept percentage from the user and display the grade according to the following \n",
    "p=eval(input('Enter the percentage:'))\n",
    "if p>90:\n",
    "        print('Grade A')\n",
    "elif p>80 and p<=90:\n",
    "        print('Grade B') \n",
    "elif p>60 and p<=80:\n",
    "        print('Grade C')        \n",
    "else:\n",
    "        print('Grade D')"
   ]
  },
  {
   "cell_type": "code",
   "execution_count": 5,
   "id": "84be8245-ad51-4aa3-a83e-86326eeb3363",
   "metadata": {},
   "outputs": [
    {
     "name": "stdin",
     "output_type": "stream",
     "text": [
      "Enter the cost of bike: 9\n"
     ]
    },
    {
     "name": "stdout",
     "output_type": "stream",
     "text": [
      "you have to pay 5% of road tax on 9 Rs bike price\n"
     ]
    }
   ],
   "source": [
    "#Q 2 \n",
    "p=eval(input('Enter the cost of bike:'))\n",
    "if p>100000:\n",
    "        print('you have to pay 15% of road tax on',p,'Rs bike price')\n",
    "elif p>50000 and p<=100000:\n",
    "        print('you have to pay 10% of road tax on',p,'Rs bike price')      \n",
    "else:\n",
    "        print('you have to pay 5% of road tax on',p,'Rs bike price') "
   ]
  },
  {
   "cell_type": "code",
   "execution_count": 6,
   "id": "2d502c29-0cf9-4866-b1cb-12417b5f0432",
   "metadata": {},
   "outputs": [
    {
     "name": "stdin",
     "output_type": "stream",
     "text": [
      "Enter the city name: Agra\n"
     ]
    },
    {
     "name": "stdout",
     "output_type": "stream",
     "text": [
      "Agra Monument is Taj Mahal \n"
     ]
    }
   ],
   "source": [
    "#Q3\n",
    "\n",
    "p=input('Enter the city name:')\n",
    "p=p.lower().strip()\n",
    "if p=='delhi':\n",
    "        print('Delhi Monument is Red Fort')\n",
    "elif p=='agra':\n",
    "        print('Agra Monument is Taj Mahal ') \n",
    "elif p=='jaipur':\n",
    "        print('Jaipur Monument is Jai Mahal ')         \n",
    "else:\n",
    "        print('enter correct city') "
   ]
  },
  {
   "cell_type": "code",
   "execution_count": 2,
   "id": "58ee9c8d-3669-4d13-a186-0f89de636b5b",
   "metadata": {},
   "outputs": [
    {
     "name": "stdin",
     "output_type": "stream",
     "text": [
      "enter the number 80\n"
     ]
    },
    {
     "name": "stdout",
     "output_type": "stream",
     "text": [
      "your number 2 times div by 3\n"
     ]
    }
   ],
   "source": [
    "#Q4\n",
    "\n",
    "x=int(input('enter the number'))\n",
    "count=0\n",
    "while x>=10:\n",
    "    x/=3\n",
    "    count+=1\n",
    "    \n",
    "print('your number',count,'times div by 3')"
   ]
  },
  {
   "cell_type": "code",
   "execution_count": 3,
   "id": "e1826439-9ef2-477c-9aa4-c1f240e7d20b",
   "metadata": {},
   "outputs": [
    {
     "ename": "SyntaxError",
     "evalue": "unmatched ')' (3581982728.py, line 6)",
     "output_type": "error",
     "traceback": [
      "\u001b[0;36m  Cell \u001b[0;32mIn[3], line 6\u001b[0;36m\u001b[0m\n\u001b[0;31m    1) for loop\u001b[0m\n\u001b[0m     ^\u001b[0m\n\u001b[0;31mSyntaxError\u001b[0m\u001b[0;31m:\u001b[0m unmatched ')'\n"
     ]
    }
   ],
   "source": [
    "#Q5  Why and When to Use while Loop in Python give a detailed description with example \n",
    "\n",
    "If we want to execute a group of statements multiple times then we should go for \n",
    "Iterative statements.\n",
    " Python supports 2 types of iterative statements.\n",
    "1) for loop\n",
    "2) while loo\n",
    "\n",
    "1)for loop:\n",
    "If we want to execute some action for every element present in some sequence \n",
    "(it may be string or collection) then we should go for for loop.\n",
    " Syntax: for x in sequence:\n",
    " Body\n",
    " Where sequence can be string or any collection.\n",
    " Body will be executed for every element present in the sequence.\n",
    "\n",
    "Eg 1: To print characters present in the given string\n",
    "1) s=\"data science\" \n",
    "2) for x in s : \n",
    "3) print(x)\n"
   ]
  },
  {
   "cell_type": "code",
   "execution_count": 4,
   "id": "19b7752f-67d7-481b-9178-8cf348458cd1",
   "metadata": {},
   "outputs": [
    {
     "name": "stdout",
     "output_type": "stream",
     "text": [
      "*****\n",
      "*****\n",
      "****\n",
      "***\n",
      "**\n",
      "*\n",
      "\n",
      "****\n",
      "***\n",
      "**\n",
      "*\n",
      "\n"
     ]
    }
   ],
   "source": [
    "#6. Use nested while loop to print 3 different pattern. \n",
    "\n",
    "x='*'\n",
    "y=5\n",
    "z=5\n",
    "while y>=0:\n",
    "    print(x*y)\n",
    "    y=y-1\n",
    "    while z>=0:\n",
    "        print(x*z)\n",
    "        z=z-1\n",
    "          \n"
   ]
  },
  {
   "cell_type": "code",
   "execution_count": 5,
   "id": "9d9b6a3d-b077-4963-affc-db3e43411f88",
   "metadata": {},
   "outputs": [
    {
     "name": "stdin",
     "output_type": "stream",
     "text": [
      "Enter number of rows :  6\n"
     ]
    },
    {
     "name": "stdout",
     "output_type": "stream",
     "text": [
      "* \n",
      "* * \n",
      "* * * \n",
      "* * * * \n",
      "* * * * * \n",
      "* * * * * * \n"
     ]
    }
   ],
   "source": [
    "n = int(input('Enter number of rows : '))\n",
    "\n",
    "i = 1\n",
    "while i <= n :\n",
    "    j = 1\n",
    "    while j <= i:\n",
    "        print(\"*\", end = \" \")\n",
    "        j += 1\n",
    "    print()\n",
    "    i += 1"
   ]
  },
  {
   "cell_type": "code",
   "execution_count": null,
   "id": "6c833488-5965-489b-a61d-8986911ea9c5",
   "metadata": {},
   "outputs": [],
   "source": [
    "#7. Reverse a while loop to display numbers from 10 to 1. \n"
   ]
  }
 ],
 "metadata": {
  "kernelspec": {
   "display_name": "Python 3 (ipykernel)",
   "language": "python",
   "name": "python3"
  },
  "language_info": {
   "codemirror_mode": {
    "name": "ipython",
    "version": 3
   },
   "file_extension": ".py",
   "mimetype": "text/x-python",
   "name": "python",
   "nbconvert_exporter": "python",
   "pygments_lexer": "ipython3",
   "version": "3.10.8"
  }
 },
 "nbformat": 4,
 "nbformat_minor": 5
}
