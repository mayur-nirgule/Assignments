{
 "cells": [
  {
   "cell_type": "code",
   "execution_count": 3,
   "id": "a4dbeeae-9a9a-4c89-853d-2f0aab29a47d",
   "metadata": {},
   "outputs": [],
   "source": [
    "'''#Q1. What is Abstraction in OOps? Explain with an example.\n",
    "Sometimes we don't know about implementation, still we can declare a method.\n",
    "Such types of methods are called abstract methods.i.e abstract method has only declaration but not implementation'''\n",
    "\n",
    "from abc import * \n",
    "class Test:\n",
    " @abstractmethod\n",
    " def m1(self):\n",
    "    pass"
   ]
  },
  {
   "cell_type": "code",
   "execution_count": 4,
   "id": "1f8c3e14-2873-464c-87aa-1668a3b326a5",
   "metadata": {},
   "outputs": [
    {
     "data": {
      "text/plain": [
       "\"Q2. Differentiate between Abstraction and Encapsulation. Explain with an example.\\n\\nAbstraction:\\n\\nDefinition: Abstraction is the process of simplifying complex systems by modeling classes based on essential properties and behaviors, while ignoring irrelevant details. It allows programmers to focus on what an object does rather than how it achieves its functionality.\\n\\nExample: In an abstract class representing a geometric shape, the abstraction is in the definition of methods like calculate_area(). The details of how each shape calculates its area are abstracted away, and you focus on the common property of having an area.\\n\\nEncapsulation:\\n\\nDefinition: Encapsulation is the bundling of data (attributes) and methods that operate on the data into a single unit (class). It restricts direct access to some of the object's components and can prevent the accidental modification of data. Encapsulation helps in data hiding and controlling access to the internal details of an object.\\n\\nExample: In a class representing a Person, encapsulation involves defining attributes (e.g., name, age) as private and providing methods (e.g., get_name(), set_age()) to access or modify them. This shields the internal data from direct manipulation.\""
      ]
     },
     "execution_count": 4,
     "metadata": {},
     "output_type": "execute_result"
    }
   ],
   "source": [
    "'''Q2. Differentiate between Abstraction and Encapsulation. Explain with an example.\n",
    "\n",
    "Abstraction:\n",
    "\n",
    "Definition: Abstraction is the process of simplifying complex systems by modeling classes based on essential properties and behaviors, while ignoring irrelevant details. It allows programmers to focus on what an object does rather than how it achieves its functionality.\n",
    "\n",
    "Example: In an abstract class representing a geometric shape, the abstraction is in the definition of methods like calculate_area(). The details of how each shape calculates its area are abstracted away, and you focus on the common property of having an area.\n",
    "\n",
    "Encapsulation:\n",
    "\n",
    "Definition: Encapsulation is the bundling of data (attributes) and methods that operate on the data into a single unit (class). It restricts direct access to some of the object's components and can prevent the accidental modification of data. Encapsulation helps in data hiding and controlling access to the internal details of an object.\n",
    "\n",
    "Example: In a class representing a Person, encapsulation involves defining attributes (e.g., name, age) as private and providing methods (e.g., get_name(), set_age()) to access or modify them. This shields the internal data from direct manipulation.'''"
   ]
  },
  {
   "cell_type": "code",
   "execution_count": null,
   "id": "5594a39a-de02-4ed7-8404-1e8740b09732",
   "metadata": {},
   "outputs": [],
   "source": [
    "'''Q3. What is abc module in python? Why is it used?\n",
    "The `abc` module in Python stands for Abstract Base Classes. It provides the infrastructure for creating abstract classes and abstract methods. Abstract classes are classes that cannot be instantiated and are meant to be subclassed by concrete classes.\n",
    "\n",
    "The `abc` module is used for:\n",
    "\n",
    "1. **Defining Abstract Base Classes (ABCs):** It allows you to define abstract classes and abstract methods using the `ABC` class and the `@abstractmethod` decorator.\n",
    "\n",
    "2. **Enforcing Abstract Methods:** By using the `@abstractmethod` decorator, the `abc` module ensures that concrete subclasses must provide implementations for abstract methods defined in the abstract base class.\n",
    "\n",
    "3. **Providing a Formalism for Abstract Classes:** It helps in creating a clear structure and interface for classes that share common behaviors but may have different implementations.\n",
    "\n",
    "In short, the `abc` module in Python is used to enforce abstraction and create a formal structure for abstract classes, ensuring that certain methods must be implemented by concrete subclasses."
   ]
  },
  {
   "cell_type": "code",
   "execution_count": null,
   "id": "8e7cb53a-dc3a-4059-b30c-23f8c2dd28c1",
   "metadata": {},
   "outputs": [],
   "source": [
    "'''Q4. How can we achieve data abstraction?\n",
    "Data abstraction in programming refers to the concept of hiding the complex implementation details of data and providing only the essential features. In object-oriented programming, you can achieve data abstraction through:\n",
    "\n",
    "1. **Encapsulation:** Bundle the data (attributes) and the methods that operate on the data into a single unit (class). Restrict direct access to the internal details of the object, allowing interaction only through well-defined methods.\n",
    "\n",
    "2. **Use of Abstract Classes and Interfaces:** Define abstract classes or interfaces that declare methods without providing implementations. Concrete subclasses must implement these methods, allowing for a common interface while hiding implementation details.\n",
    "\n",
    "In short, achieving data abstraction involves encapsulating data within classes and providing abstract interfaces to interact with that data, allowing for a higher level of modularity and hiding unnecessary details."
   ]
  },
  {
   "cell_type": "code",
   "execution_count": null,
   "id": "e18865ee-bcda-4909-803f-64c30fd295dc",
   "metadata": {},
   "outputs": [],
   "source": [
    "'''Q5. Can we create an instance of an abstract class? Explain your answer.\n",
    "No, you cannot create an instance of an abstract class in most object-oriented programming languages, including Python. Abstract classes are designed to be incomplete and are meant to be subclassed by concrete classes that provide implementations for the abstract methods defined in the abstract class.\n",
    "\n",
    "Attempting to create an instance of an abstract class directly would result in an error. Abstract classes often have one or more abstract methods, which are declared in the abstract class but lack implementations. Since the abstract class is incomplete, it doesn't make sense to instantiate it.\n",
    "\n",
    "In languages like Python, you can use the `ABC` (Abstract Base Class) module to create abstract classes, and the `@abstractmethod` decorator is used to declare abstract methods within those classes. The combination of abstract methods and the inability to create instances enforces the idea that abstract classes serve as blueprints for concrete classes, providing a common interface but leaving the specific implementations to the subclasses."
   ]
  }
 ],
 "metadata": {
  "kernelspec": {
   "display_name": "Python 3 (ipykernel)",
   "language": "python",
   "name": "python3"
  },
  "language_info": {
   "codemirror_mode": {
    "name": "ipython",
    "version": 3
   },
   "file_extension": ".py",
   "mimetype": "text/x-python",
   "name": "python",
   "nbconvert_exporter": "python",
   "pygments_lexer": "ipython3",
   "version": "3.10.8"
  }
 },
 "nbformat": 4,
 "nbformat_minor": 5
}
