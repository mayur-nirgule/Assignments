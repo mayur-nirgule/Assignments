{
 "cells": [
  {
   "cell_type": "code",
   "execution_count": null,
   "id": "a76a6143-8b12-49f0-8852-240a5dec376d",
   "metadata": {},
   "outputs": [],
   "source": [
    "'''Q1\n",
    "In Python, an exception is an event that occurs during the execution of a program that disrupts the normal flow of instructions. When an error occurs, Python raises an exception, allowing the program to handle the error gracefully and prevent it from crashing. Exceptions can be caused by various reasons, such as invalid input, file not found, or division by zero.\n",
    "\n",
    "\n",
    "Differences between Exceptions and Syntax Errors:\n",
    "Syntax Errors:\n",
    "\n",
    "Syntax errors are errors in the code structure and grammar that prevent the interpreter from parsing the code.\n",
    "They are detected during the compilation or interpretation phase before the program runs.\n",
    "Examples of syntax errors include missing colons, mismatched parentheses, or using an invalid keyword.\n",
    "Exceptions:\n",
    "\n",
    "Exceptions are runtime errors that occur during the execution of a program.\n",
    "They are not detected until the specific line causing the error is reached during program execution.\n",
    "Examples of exceptions include ZeroDivisionError (dividing by zero), FileNotFoundError (trying to open a non-existent file), and ValueError (unexpected data type).\n",
    "In summary, syntax errors are related to the structure of the code and are detected before the program runs, while exceptions are runtime errors that occur during program execution due to unforeseen circumstances or invalid operations.\n",
    "\n",
    "If there's a specific aspect or concept you would like more information on, feel free to clarify, and I'll do my best to assist you!'''"
   ]
  },
  {
   "cell_type": "code",
   "execution_count": null,
   "id": "f6d7d92a-a16a-45fd-a420-f0b0f086f140",
   "metadata": {},
   "outputs": [],
   "source": [
    "'''Q2\n",
    "When an exception is not handled in a Python program, it propagates up the call stack until it either encounters a suitable exception handler or reaches the top-level of the program. If no handler is found, the program terminates, and an error message indicating the type of exception and the location where it occurred is displayed. This abrupt termination without proper handling can lead to unintended consequences, such as the program crashing or providing unexpected behavior to the user.'''\n",
    "def divide_numbers(a, b):\n",
    "    result = a / b\n",
    "    return result\n",
    "\n",
    "try:\n",
    "    numerator = int(input(\"Enter the numerator: \"))\n",
    "    denominator = int(input(\"Enter the denominator: \"))\n",
    "    \n",
    "    result = divide_numbers(numerator, denominator)\n",
    "    \n",
    "    print(f\"Result of the division: {result}\")\n",
    "\n",
    "except ValueError as ve:\n",
    "    print(f\"ValueError: {ve}\")\n"
   ]
  },
  {
   "cell_type": "code",
   "execution_count": null,
   "id": "df3ff17f-08cd-4877-aa35-45cae825cc2c",
   "metadata": {},
   "outputs": [],
   "source": [
    "'''Q3\n",
    "In Python, the try, except, else, and finally statements are used to handle exceptions. These statements provide a way to write code that gracefully deals with errors and prevents the program from crashing when unexpected situations occur.\n",
    "\n",
    "'''def divide_numbers(a, b):\n",
    "    try:\n",
    "        result = a / b\n",
    "    except ZeroDivisionError as e:\n",
    "        print(f\"Error: {e}\")\n",
    "    else:\n",
    "        print(f\"Result of the division: {result}\")\n",
    "    finally:\n",
    "        print(\"This will always execute.\")\n",
    "\n",
    "# Example 1: Division by zero (handled exception)\n",
    "divide_numbers(10, 0)\n",
    "\n",
    "# Example 2: Valid division (no exception)\n",
    "divide_numbers(10, 2)\n"
   ]
  },
  {
   "cell_type": "code",
   "execution_count": null,
   "id": "4b08b81f-6247-4a65-b2b7-6120170f4d9f",
   "metadata": {},
   "outputs": [],
   "source": [
    "'''Q4'''\n",
    "def example_function(x, y):\n",
    "    try:\n",
    "        result = x / y\n",
    "    except ZeroDivisionError as e:\n",
    "        print(f\"Error: {e}\")\n",
    "    else:\n",
    "        print(f\"Result of the division: {result}\")\n",
    "        # Additional code to execute if no exception occurs\n",
    "    finally:\n",
    "        print(\"This will always execute.\")\n",
    "\n",
    "# Example 1: Division by zero (handled exception)\n",
    "example_function(10, 0)\n",
    "\n",
    "# Example 2: Valid division (no exception)\n",
    "example_function(10, 2)\n"
   ]
  },
  {
   "cell_type": "code",
   "execution_count": null,
   "id": "19241000-8a32-465c-86d3-8f4e872b431b",
   "metadata": {},
   "outputs": [],
   "source": [
    "'''Q5\n",
    "In Python, custom exceptions, also known as user-defined exceptions, are exceptions that you create yourself by defining a new exception class. You can use custom exceptions to represent specific error conditions or situations that are relevant to your application but may not be covered by the built-in exceptions.\n",
    "\n",
    "Why Custom Exceptions?\n",
    "Specificity: Custom exceptions allow you to provide more specific information about the nature of an error in your code. Instead of relying solely on generic exceptions, you can define exceptions that are tailored to the unique requirements of your program.\n",
    "\n",
    "Readability: Using custom exceptions can enhance the readability of your code. By raising and catching specific custom exceptions, it becomes clear what kind of error is being handled, making the code more understandable.\n",
    "\n",
    "Modularity: Custom exceptions promote modularity in your code. You can organize your exceptions based on the different components or modules of your application, making it easier to maintain and extend.'''\n"
   ]
  }
 ],
 "metadata": {
  "kernelspec": {
   "display_name": "Python 3 (ipykernel)",
   "language": "python",
   "name": "python3"
  },
  "language_info": {
   "codemirror_mode": {
    "name": "ipython",
    "version": 3
   },
   "file_extension": ".py",
   "mimetype": "text/x-python",
   "name": "python",
   "nbconvert_exporter": "python",
   "pygments_lexer": "ipython3",
   "version": "3.10.8"
  }
 },
 "nbformat": 4,
 "nbformat_minor": 5
}
