{
 "cells": [
  {
   "cell_type": "code",
   "execution_count": 1,
   "id": "887fd15f-1ace-4244-9c4c-a182239d7755",
   "metadata": {},
   "outputs": [
    {
     "name": "stdin",
     "output_type": "stream",
     "text": [
      "Enter your password:  Pass@1234\n"
     ]
    },
    {
     "name": "stdout",
     "output_type": "stream",
     "text": [
      "Invalid Password\n"
     ]
    }
   ],
   "source": [
    "import re\n",
    "\n",
    "def check_password(password):\n",
    "    # Check if the length is 10 characters\n",
    "    if len(password) != 10:\n",
    "        return \"Invalid Password\"\n",
    "\n",
    "    # Count the number of uppercase and lowercase letters\n",
    "    uppercase_count = sum(1 for char in password if char.isupper())\n",
    "    lowercase_count = sum(1 for char in password if char.islower())\n",
    "\n",
    "    # Check if there are at least two uppercase and two lowercase letters\n",
    "    if uppercase_count < 2 or lowercase_count < 2:\n",
    "        return \"Invalid Password\"\n",
    "\n",
    "    # Check if there is at least one number\n",
    "    if not any(char.isdigit() for char in password):\n",
    "        return \"Invalid Password\"\n",
    "\n",
    "    # Check if there are at least three special characters\n",
    "    special_count = len(re.findall(r'[!@#$%^&*()-_+=]', password))\n",
    "    if special_count < 3:\n",
    "        return \"Invalid Password\"\n",
    "\n",
    "    # If all conditions are met, the password is valid\n",
    "    return \"Valid Password\"\n",
    "\n",
    "# Example usage:\n",
    "user_password = input(\"Enter your password: \")\n",
    "result = check_password(user_password)\n",
    "print(result)\n"
   ]
  },
  {
   "cell_type": "code",
   "execution_count": 2,
   "id": "dedc1b35-a100-4d00-83d3-8dc385cd1326",
   "metadata": {},
   "outputs": [
    {
     "name": "stdout",
     "output_type": "stream",
     "text": [
      "True\n",
      "True\n",
      "[('orange', 80), ('mango', 99), ('grapes', 1000)]\n",
      "[1, 4, 9, 16, 25, 36, 49, 64, 81, 100]\n",
      "[1.0, 1.2599210498948732, 1.4422495703074083, 1.5874010519681994, 1.7099759466766968, 1.8171205928321397, 1.912931182772389, 2.0, 2.080083823051904, 2.154434690031884]\n",
      "True\n",
      "[1, 3, 5, 7, 9]\n",
      "Positive Integers: [1, 2, 3, 4, 5, 6]\n",
      "Negative Integers: [-1, -2, -3, -4, -5]\n"
     ]
    }
   ],
   "source": [
    " import math\n",
    "\n",
    "# Check if the string starts with a particular letter\n",
    "starts_with_letter = lambda string, letter: string.startswith(letter)\n",
    "print(starts_with_letter(\"Python\", \"P\"))  # Output: True\n",
    "\n",
    "# Check if the string is numeric\n",
    "is_numeric = lambda string: string.isnumeric()\n",
    "print(is_numeric(\"123\"))  # Output: True\n",
    "\n",
    "# Sort a list of tuples having fruit names and their quantity\n",
    "fruit_list = [(\"mango\", 99), (\"orange\", 80), (\"grapes\", 1000)]\n",
    "sorted_fruit_list = sorted(fruit_list, key=lambda x: x[1])\n",
    "print(sorted_fruit_list)\n",
    "\n",
    "# Find the squares of numbers from 1 to 10\n",
    "squares = [x**2 for x in range(1, 11)]\n",
    "print(squares)\n",
    "\n",
    "# Find the cube root of numbers from 1 to 10\n",
    "cube_roots = [math.pow(x, 1/3) for x in range(1, 11)]\n",
    "print(cube_roots)\n",
    "\n",
    "# Check if a given number is even\n",
    "is_even = lambda num: num % 2 == 0\n",
    "print(is_even(6))  # Output: True\n",
    "\n",
    "# Filter odd numbers from the given list\n",
    "numbers = [1, 2, 3, 4, 5, 6, 7, 8, 9, 10]\n",
    "odd_numbers = list(filter(lambda x: x % 2 != 0, numbers))\n",
    "print(odd_numbers)\n",
    "\n",
    "# Sort a list of integers into positive and negative integers lists\n",
    "integer_list = [1, 2, 3, 4, 5, 6, -1, -2, -3, -4, -5, 0]\n",
    "positive_integers = [x for x in integer_list if x > 0]\n",
    "negative_integers = [x for x in integer_list if x < 0]\n",
    "print(\"Positive Integers:\", positive_integers)\n",
    "print(\"Negative Integers:\", negative_integers)\n"
   ]
  },
  {
   "cell_type": "code",
   "execution_count": null,
   "id": "68e68b19-9b59-4d60-b8c2-a9e6e77b3d7d",
   "metadata": {},
   "outputs": [],
   "source": []
  },
  {
   "cell_type": "code",
   "execution_count": null,
   "id": "dfc47541-cd90-4ea6-ab43-1970ff95c350",
   "metadata": {},
   "outputs": [],
   "source": []
  }
 ],
 "metadata": {
  "kernelspec": {
   "display_name": "Python 3 (ipykernel)",
   "language": "python",
   "name": "python3"
  },
  "language_info": {
   "codemirror_mode": {
    "name": "ipython",
    "version": 3
   },
   "file_extension": ".py",
   "mimetype": "text/x-python",
   "name": "python",
   "nbconvert_exporter": "python",
   "pygments_lexer": "ipython3",
   "version": "3.10.8"
  }
 },
 "nbformat": 4,
 "nbformat_minor": 5
}
