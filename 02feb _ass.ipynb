{
 "cells": [
  {
   "cell_type": "code",
   "execution_count": 1,
   "id": "cdcc9741-4fab-471b-9384-e12b09f461b4",
   "metadata": {},
   "outputs": [],
   "source": [
    "#Q1. Explain with an example each when to use a for loop and a while loop.\n",
    "\n",
    "If we want to execute a group of statements multiple times then we should go for \n",
    "Iterative statements.\n",
    "֍ Python supports 2 types of iterative statements.\n",
    "1) for loop\n",
    "2) while loop\n",
    "1)for loop:\n",
    "If we want to execute some action for every element present in some sequence \n",
    "(it may be string or collection) then we should go for for loop.\n",
    " Syntax: for x in sequence:\n",
    " Body\n",
    " Where sequence can be string or any collection.\n",
    " Body will be executed for every element present in the sequenc\n",
    "EX for iin rang(10)\n",
    "    print(i)\n",
    "    \n",
    " output :1 2 3 4 5 6 7 8 9 10\n",
    "\n",
    "2)while loop:\n",
    "If we want to execute a group of statements iteratively until some condition false,then \n",
    "we should go for while loop.\n",
    " Syntax: while condition :\n",
    " body\n",
    " Eg: To print numbers from 1 to 10 by using while loop\n",
    "1) x = 1 \n",
    "2) while x <= 10: \n",
    "3) print(x) \n",
    "4) x = x+1 \n",
    "Eg: To display the sum of first n numbers\n",
    "1) n=int(input(\"Enter number:\")) \n",
    "2) sum=0 \n",
    "3) i=1 \n",
    "4) while i<=n: \n",
    "5) sum=sum+i \n",
    "6) i=i+1 \n",
    "7) print(\"The sum of first\",n,\"numbers is :\",sum) "
   ]
  },
  {
   "cell_type": "code",
   "execution_count": 3,
   "id": "d39f63f0-7eb3-4a4c-b708-a9347a6ed50d",
   "metadata": {},
   "outputs": [
    {
     "name": "stdout",
     "output_type": "stream",
     "text": [
      "sum= 55 and product= 3628800\n"
     ]
    }
   ],
   "source": [
    "#Q2. Write a python program to print the sum and product of the first 10 natural numbers using for and while loop.\n",
    "sum=0\n",
    "pro=1\n",
    "for i in range(1,11):\n",
    "    sum=sum+i\n",
    "    pro=pro*i\n",
    "print('sum=',sum,'and product=',pro) "
   ]
  },
  {
   "cell_type": "code",
   "execution_count": 5,
   "id": "867f6c64-6293-4e04-b1ed-ef3def158124",
   "metadata": {},
   "outputs": [
    {
     "name": "stdin",
     "output_type": "stream",
     "text": [
      "enter the units of electricity consumed in a month 310\n"
     ]
    },
    {
     "name": "stdout",
     "output_type": "stream",
     "text": [
      "electricity consumed by the user in a month is 310 the total electricity bill should be 2250.0\n"
     ]
    }
   ],
   "source": [
    "'''Q3. Create a python program to compute the electricity bill for a household.\n",
    "The per-unit charges in rupees are as follows: For the first 100 units, the user will be charged Rs. 4.5 per\n",
    "unit, for the next 100 units, the user will be charged Rs. 6 per unit, and for the next 100 units, the user will\n",
    "be charged Rs. 10 per unit, After 300 units and above the user will be charged Rs. 20 per unit.\n",
    "You are required to take the units of electricity consumed in a month from the user as input.\n",
    "Your program must pass this test case: when the unit of electricity consumed by the user in a month is\n",
    "310, the total electricity bill should be 2250.'''\n",
    "u=int(input('enter the units of electricity consumed in a month' ))\n",
    "b1,b2,b3,b4=0,0,0,0\n",
    "i=1\n",
    "while i<=u:    \n",
    "    if i<=100:\n",
    "        b1=i*4.5\n",
    "    elif i>100 and i<=200:\n",
    "        b2=(i-100)*6 \n",
    "    elif i>200 and i<=300:\n",
    "        b3=(i-200)*10  \n",
    "    else:\n",
    "        b4=(i-300)*20\n",
    "    i=i+1\n",
    "b=b1+b2+b3+b4   \n",
    "print('electricity consumed by the user in a month is',u, 'the total electricity bill should be',b) \n"
   ]
  },
  {
   "cell_type": "code",
   "execution_count": 6,
   "id": "9227d4c2-9d39-4534-b37a-5b84b5290741",
   "metadata": {},
   "outputs": [
    {
     "name": "stdout",
     "output_type": "stream",
     "text": [
      "list of numbesrs\n",
      " [1, 2, 3, 4, 5, 6, 7, 8, 9, 10, 11, 12, 13, 14, 15, 16, 17, 18, 19, 20, 21, 22, 23, 24, 25, 26, 27, 28, 29, 30, 31, 32, 33, 34, 35, 36, 37, 38, 39, 40, 41, 42, 43, 44, 45, 46, 47, 48, 49, 50, 51, 52, 53, 54, 55, 56, 57, 58, 59, 60, 61, 62, 63, 64, 65, 66, 67, 68, 69, 70, 71, 72, 73, 74, 75, 76, 77, 78, 79, 80, 81, 82, 83, 84, 85, 86, 87, 88, 89, 90, 91, 92, 93, 94, 95, 96, 97, 98, 99, 100]\n",
      "cube  list\n",
      " [1, 8, 27, 64, 125, 216, 343, 512, 729, 1000, 1331, 1728, 2197, 2744, 3375, 4096, 4913, 5832, 6859, 8000, 9261, 10648, 12167, 13824, 15625, 17576, 19683, 21952, 24389, 27000, 29791, 32768, 35937, 39304, 42875, 46656, 50653, 54872, 59319, 64000, 68921, 74088, 79507, 85184, 91125, 97336, 103823, 110592, 117649, 125000, 132651, 140608, 148877, 157464, 166375, 175616, 185193, 195112, 205379, 216000, 226981, 238328, 250047, 262144, 274625, 287496, 300763, 314432, 328509, 343000, 357911, 373248, 389017, 405224, 421875, 438976, 456533, 474552, 493039, 512000, 531441, 551368, 571787, 592704, 614125, 636056, 658503, 681472, 704969, 729000, 753571, 778688, 804357, 830584, 857375, 884736, 912673, 941192, 970299, 1000000]\n",
      "\n",
      "\n",
      "\n",
      "cube of that number is divisible by 4 or 5 [8, 64, 125, 216, 512, 1000, 1728, 2744, 3375, 4096, 5832, 8000, 10648, 13824, 15625, 17576, 21952, 27000, 32768, 39304, 42875, 46656, 54872, 64000, 74088, 85184, 91125, 97336, 110592, 125000, 140608, 157464, 166375, 175616, 195112, 216000, 238328, 262144, 274625, 287496, 314432, 343000, 373248, 405224, 421875, 438976, 474552, 512000, 551368, 592704, 614125, 636056, 681472, 729000, 778688, 830584, 857375, 884736, 941192, 1000000]\n"
     ]
    }
   ],
   "source": [
    "'''Q4. Create a list of numbers from 1 to 100. Use for loop and while loop to calculate the cube of each\n",
    "number and if the cube of that number is divisible by 4 or 5 then append that number in a list and print\n",
    "that list.'''\n",
    "l=[]\n",
    "l1=[]\n",
    "l2=[]\n",
    "i=1\n",
    "while i<=100:\n",
    "    l.append(i)\n",
    "    i=i+1\n",
    "print('list of numbesrs\\n',l)    \n",
    "for c in l:\n",
    "    l1.append(c**3)\n",
    "print('cube  list\\n',l1)    \n",
    "\n",
    "for d in l1:\n",
    "    if d%4==0 or d%5==0:\n",
    "        l2.append(d)\n",
    "        \n",
    "print('\\n\\n\\ncube of that number is divisible by 4 or 5',l2)"
   ]
  },
  {
   "cell_type": "code",
   "execution_count": null,
   "id": "aba4cff6-5f0a-4143-ad19-f3e8be9dc74a",
   "metadata": {},
   "outputs": [],
   "source": []
  }
 ],
 "metadata": {
  "kernelspec": {
   "display_name": "Python 3 (ipykernel)",
   "language": "python",
   "name": "python3"
  },
  "language_info": {
   "codemirror_mode": {
    "name": "ipython",
    "version": 3
   },
   "file_extension": ".py",
   "mimetype": "text/x-python",
   "name": "python",
   "nbconvert_exporter": "python",
   "pygments_lexer": "ipython3",
   "version": "3.10.8"
  }
 },
 "nbformat": 4,
 "nbformat_minor": 5
}
